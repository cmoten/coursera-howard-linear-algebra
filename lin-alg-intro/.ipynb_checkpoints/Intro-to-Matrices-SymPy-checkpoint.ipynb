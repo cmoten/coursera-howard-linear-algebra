{
 "cells": [
  {
   "cell_type": "markdown",
   "id": "647d6e1d",
   "metadata": {},
   "source": [
    "# Introduction to Matrices in Python Using SymPy"
   ]
  },
  {
   "cell_type": "code",
   "execution_count": 2,
   "id": "350a88d9",
   "metadata": {},
   "outputs": [],
   "source": [
    "import numpy as np\n",
    "import random\n",
    "import sympy as sy"
   ]
  },
  {
   "cell_type": "markdown",
   "id": "69c0c7c8",
   "metadata": {},
   "source": [
    "## Manually enter a 3x3 matrix"
   ]
  },
  {
   "cell_type": "code",
   "execution_count": 2,
   "id": "1622ebd7",
   "metadata": {},
   "outputs": [
    {
     "data": {
      "text/latex": [
       "$\\displaystyle \\left[\\begin{matrix}1 & 2 & 3\\\\4 & 5 & 6\\\\7 & 8 & 9\\end{matrix}\\right]$"
      ],
      "text/plain": [
       "Matrix([\n",
       "[1, 2, 3],\n",
       "[4, 5, 6],\n",
       "[7, 8, 9]])"
      ]
     },
     "execution_count": 2,
     "metadata": {},
     "output_type": "execute_result"
    }
   ],
   "source": [
    "M = sy.Matrix([[1,2,3],[4,5,6],[7,8,9]])\n",
    "M"
   ]
  },
  {
   "cell_type": "markdown",
   "id": "155a6a4a",
   "metadata": {},
   "source": [
    "## 2x2 matrix using random numbers"
   ]
  },
  {
   "cell_type": "code",
   "execution_count": 7,
   "id": "3faecf16",
   "metadata": {},
   "outputs": [
    {
     "data": {
      "text/latex": [
       "$\\displaystyle \\left[\\begin{matrix}-6 & 3\\\\-5 & -6\\end{matrix}\\right]$"
      ],
      "text/plain": [
       "Matrix([\n",
       "[-6,  3],\n",
       "[-5, -6]])"
      ]
     },
     "execution_count": 7,
     "metadata": {},
     "output_type": "execute_result"
    }
   ],
   "source": [
    "T = sy.Matrix(np.random.randint(-7, 5, size = (2, 2)))\n",
    "T"
   ]
  },
  {
   "cell_type": "markdown",
   "id": "e069b51c",
   "metadata": {},
   "source": [
    "## Particular Matrices"
   ]
  },
  {
   "cell_type": "markdown",
   "id": "347b219f",
   "metadata": {},
   "source": [
    "### Identity Matrix"
   ]
  },
  {
   "cell_type": "code",
   "execution_count": 8,
   "id": "782b4b1d",
   "metadata": {},
   "outputs": [
    {
     "data": {
      "text/latex": [
       "$\\displaystyle \\left[\\begin{matrix}1 & 0 & 0\\\\0 & 1 & 0\\\\0 & 0 & 1\\end{matrix}\\right]$"
      ],
      "text/plain": [
       "Matrix([\n",
       "[1, 0, 0],\n",
       "[0, 1, 0],\n",
       "[0, 0, 1]])"
      ]
     },
     "execution_count": 8,
     "metadata": {},
     "output_type": "execute_result"
    }
   ],
   "source": [
    "I = sy.eye(3)\n",
    "I"
   ]
  },
  {
   "cell_type": "markdown",
   "id": "7d8d71f9",
   "metadata": {},
   "source": [
    "### Zeros Matrix"
   ]
  },
  {
   "cell_type": "code",
   "execution_count": 9,
   "id": "856e9784",
   "metadata": {},
   "outputs": [
    {
     "data": {
      "text/latex": [
       "$\\displaystyle \\left[\\begin{matrix}0 & 0 & 0\\\\0 & 0 & 0\\\\0 & 0 & 0\\end{matrix}\\right]$"
      ],
      "text/plain": [
       "Matrix([\n",
       "[0, 0, 0],\n",
       "[0, 0, 0],\n",
       "[0, 0, 0]])"
      ]
     },
     "execution_count": 9,
     "metadata": {},
     "output_type": "execute_result"
    }
   ],
   "source": [
    "Z = sy.zeros(3, 3)\n",
    "Z"
   ]
  },
  {
   "cell_type": "markdown",
   "id": "81416676",
   "metadata": {},
   "source": [
    "### Ones Matrix"
   ]
  },
  {
   "cell_type": "code",
   "execution_count": 10,
   "id": "6f12a8c9",
   "metadata": {},
   "outputs": [
    {
     "data": {
      "text/latex": [
       "$\\displaystyle \\left[\\begin{matrix}1 & 1 & 1 & 1\\\\1 & 1 & 1 & 1\\\\1 & 1 & 1 & 1\\\\1 & 1 & 1 & 1\\\\1 & 1 & 1 & 1\\end{matrix}\\right]$"
      ],
      "text/plain": [
       "Matrix([\n",
       "[1, 1, 1, 1],\n",
       "[1, 1, 1, 1],\n",
       "[1, 1, 1, 1],\n",
       "[1, 1, 1, 1],\n",
       "[1, 1, 1, 1]])"
      ]
     },
     "execution_count": 10,
     "metadata": {},
     "output_type": "execute_result"
    }
   ],
   "source": [
    "O = sy.ones(5, 4)\n",
    "O"
   ]
  },
  {
   "cell_type": "markdown",
   "id": "ed26a398",
   "metadata": {},
   "source": [
    "### Diagonal Matrix"
   ]
  },
  {
   "cell_type": "code",
   "execution_count": 11,
   "id": "21807259",
   "metadata": {},
   "outputs": [
    {
     "data": {
      "text/latex": [
       "$\\displaystyle \\left[\\begin{matrix}1 & 0 & 0\\\\0 & 2 & 0\\\\0 & 0 & 3\\end{matrix}\\right]$"
      ],
      "text/plain": [
       "Matrix([\n",
       "[1, 0, 0],\n",
       "[0, 2, 0],\n",
       "[0, 0, 3]])"
      ]
     },
     "execution_count": 11,
     "metadata": {},
     "output_type": "execute_result"
    }
   ],
   "source": [
    "D = sy.diag(1, 2, 3)\n",
    "D"
   ]
  },
  {
   "cell_type": "code",
   "execution_count": 4,
   "id": "4d598949",
   "metadata": {},
   "outputs": [
    {
     "data": {
      "text/latex": [
       "$\\displaystyle \\left[\\begin{matrix}3 & -1\\\\2 & -2\\end{matrix}\\right]$"
      ],
      "text/plain": [
       "Matrix([\n",
       "[3, -1],\n",
       "[2, -2]])"
      ]
     },
     "execution_count": 4,
     "metadata": {},
     "output_type": "execute_result"
    }
   ],
   "source": [
    "A = sy.Matrix([[3, -1],[2, -2]])\n",
    "A"
   ]
  },
  {
   "cell_type": "code",
   "execution_count": 5,
   "id": "786753c1",
   "metadata": {},
   "outputs": [
    {
     "data": {
      "text/latex": [
       "$\\displaystyle \\left[\\begin{matrix}1 & 2 & -1\\\\0 & 2 & 7\\end{matrix}\\right]$"
      ],
      "text/plain": [
       "Matrix([\n",
       "[1, 2, -1],\n",
       "[0, 2,  7]])"
      ]
     },
     "execution_count": 5,
     "metadata": {},
     "output_type": "execute_result"
    }
   ],
   "source": [
    "B = sy.Matrix([[1, 2, -1],[0, 2, 7]])\n",
    "B"
   ]
  },
  {
   "cell_type": "code",
   "execution_count": 6,
   "id": "96232705",
   "metadata": {},
   "outputs": [
    {
     "data": {
      "text/plain": [
       "array([[6, 8, -20],\n",
       "       [4, 0, -32]], dtype=object)"
      ]
     },
     "execution_count": 6,
     "metadata": {},
     "output_type": "execute_result"
    }
   ],
   "source": [
    "np.dot(2*A, B)"
   ]
  }
 ],
 "metadata": {
  "kernelspec": {
   "display_name": "Python 3 (ipykernel)",
   "language": "python",
   "name": "python3"
  },
  "language_info": {
   "codemirror_mode": {
    "name": "ipython",
    "version": 3
   },
   "file_extension": ".py",
   "mimetype": "text/x-python",
   "name": "python",
   "nbconvert_exporter": "python",
   "pygments_lexer": "ipython3",
   "version": "3.10.6"
  }
 },
 "nbformat": 4,
 "nbformat_minor": 5
}
